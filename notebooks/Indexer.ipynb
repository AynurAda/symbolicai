{
 "cells": [
  {
   "cell_type": "code",
   "execution_count": 1,
   "metadata": {},
   "outputs": [],
   "source": [
    "from symai.components import *\n",
    "from symai.backend.mixin.tracker import OpenAICostTracker\n",
    "from symai import *"
   ]
  },
  {
   "cell_type": "code",
   "execution_count": 3,
   "metadata": {},
   "outputs": [],
   "source": [
    "expr = Expression()"
   ]
  },
  {
   "cell_type": "code",
   "execution_count": 4,
   "metadata": {},
   "outputs": [],
   "source": [
    "class FuncDemo(Expression):\n",
    "    def forward(self, data: Symbol, **kwargs):\n",
    "        @core.query(context='Do some fancy decoration of sentences.')\n",
    "        def _func(_, data, **kwargs):\n",
    "            pass\n",
    "        return _func(self, data, **kwargs)"
   ]
  },
  {
   "cell_type": "code",
   "execution_count": 5,
   "metadata": {},
   "outputs": [],
   "source": [
    "leo_func = FuncDemo()"
   ]
  },
  {
   "cell_type": "code",
   "execution_count": 6,
   "metadata": {},
   "outputs": [
    {
     "data": {
      "text/html": [
       "Data:\n",
       "\n",
       "Context: Do some fancy decoration of sentences.\n",
       "Answer:"
      ],
      "text/plain": [
       "<class symai.core.Argument at 0x7f95b187ec20>(value=Data:\n",
       "\n",
       "Context: Do some fancy decoration of sentences.\n",
       "Answer:)"
      ]
     },
     "execution_count": 6,
     "metadata": {},
     "output_type": "execute_result"
    }
   ],
   "source": [
    "res = leo_func('Test', preview=True)\n",
    "res"
   ]
  },
  {
   "cell_type": "code",
   "execution_count": 7,
   "metadata": {},
   "outputs": [
    {
     "name": "stderr",
     "output_type": "stream",
     "text": [
      "2023-11-30 22:15:07,833 ====== WebDriver manager ======\n",
      "2023-11-30 22:15:07,833 ====== WebDriver manager ======\n",
      "2023-11-30 22:15:07,833 ====== WebDriver manager ======\n",
      "2023-11-30 22:15:07,833 ====== WebDriver manager ======\n",
      "2023-11-30 22:15:08,121 Get LATEST chromedriver version for google-chrome\n",
      "2023-11-30 22:15:08,121 Get LATEST chromedriver version for google-chrome\n",
      "2023-11-30 22:15:08,121 Get LATEST chromedriver version for google-chrome\n",
      "2023-11-30 22:15:08,121 Get LATEST chromedriver version for google-chrome\n",
      "2023-11-30 22:15:08,183 Get LATEST chromedriver version for google-chrome\n",
      "2023-11-30 22:15:08,183 Get LATEST chromedriver version for google-chrome\n",
      "2023-11-30 22:15:08,183 Get LATEST chromedriver version for google-chrome\n",
      "2023-11-30 22:15:08,183 Get LATEST chromedriver version for google-chrome\n",
      "2023-11-30 22:15:08,229 Driver [/Users/xpitfire/.wdm/drivers/chromedriver/mac64/119.0.6045.105/chromedriver-mac-x64/chromedriver] found in cache\n",
      "2023-11-30 22:15:08,229 Driver [/Users/xpitfire/.wdm/drivers/chromedriver/mac64/119.0.6045.105/chromedriver-mac-x64/chromedriver] found in cache\n",
      "2023-11-30 22:15:08,229 Driver [/Users/xpitfire/.wdm/drivers/chromedriver/mac64/119.0.6045.105/chromedriver-mac-x64/chromedriver] found in cache\n",
      "2023-11-30 22:15:08,229 Driver [/Users/xpitfire/.wdm/drivers/chromedriver/mac64/119.0.6045.105/chromedriver-mac-x64/chromedriver] found in cache\n"
     ]
    },
    {
     "data": {
      "text/plain": [
       "'Zum'"
      ]
     },
     "execution_count": 7,
     "metadata": {},
     "output_type": "execute_result"
    }
   ],
   "source": [
    "crawler = Interface('selenium') # load selenium interface\n",
    "website = crawler('https://www.orf.at'); # load page\n",
    "website.value[:100] # preview"
   ]
  },
  {
   "cell_type": "code",
   "execution_count": 8,
   "metadata": {},
   "outputs": [],
   "source": [
    "from symai.extended import RepositoryCloner\n",
    "cloner = RepositoryCloner() # load repository cloner"
   ]
  },
  {
   "cell_type": "code",
   "execution_count": 9,
   "metadata": {},
   "outputs": [
    {
     "name": "stdout",
     "output_type": "stream",
     "text": [
      "Repository quam already exists. Checking for updates...\n",
      "Repository quam is up-to-date.\n"
     ]
    },
    {
     "data": {
      "text/plain": [
       "'/Users/xpitfire/.symai/repos/quam'"
      ]
     },
     "execution_count": 9,
     "metadata": {},
     "output_type": "execute_result"
    }
   ],
   "source": [
    "cloner('https://github.com/ml-jku/quam')"
   ]
  },
  {
   "cell_type": "code",
   "execution_count": 8,
   "metadata": {},
   "outputs": [],
   "source": [
    "tracker = OpenAICostTracker() # load openai cost tracker\n",
    "usage = TokenTracker() # load token tracker"
   ]
  },
  {
   "cell_type": "code",
   "execution_count": 11,
   "metadata": {},
   "outputs": [],
   "source": [
    "with tracker: # track the cost using OpenAI API\n",
    "    conv = Conversation(file_link='/Users/xpitfire/workspace/symbolicai/symai/extended/repo_cloner.py') # create conversation"
   ]
  },
  {
   "cell_type": "code",
   "execution_count": 14,
   "metadata": {},
   "outputs": [
    {
     "name": "stdout",
     "output_type": "stream",
     "text": [
      "Below is a Python class that includes a method to clone a repository from a given URL using the `git` command-line tool. The class makes use of the subprocess module to execute the `git clone` command. I have also included Python docstrings for documentation.\n",
      "\n",
      "```python\n",
      "import subprocess\n",
      "from typing import Optional\n",
      "\n",
      "class GitRepositoryCloner:\n",
      "    \"\"\"\n",
      "    A utility class to clone Git repositories using the `git` command-line tool.\n",
      "    \"\"\"\n",
      "    \n",
      "    @staticmethod\n",
      "    def clone_repository(repo_url: str, clone_directory: Optional[str] = None) -> bool:\n",
      "        \"\"\"\n",
      "        Clone a Git repository from the given URL into the specified directory.\n",
      "\n",
      "        :param repo_url: The URL of the repository to clone.\n",
      "        :param clone_directory: Optional destination directory for the cloned repo.\n",
      "                                If not provided, uses the default git behavior which\n",
      "                                is to create a directory named after the repo under\n",
      "                                the current working directory.\n",
      "        :return: True if the repository was successfully cloned, False otherwise.\n",
      "        \"\"\"\n",
      "        # Command composition\n",
      "        clone_command = [\"git\", \"clone\", repo_url]\n",
      "        if clone_directory:\n",
      "            clone_command.append(clone_directory)\n",
      "\n",
      "        try:\n",
      "            # Execute the git clone command\n",
      "            subprocess.run(clone_command, check=True)\n",
      "            return True\n",
      "        except subprocess.CalledProcessError:\n",
      "            # The command failed\n",
      "            return False\n",
      "\n",
      "# Example Usage:\n",
      "\n",
      "# Assuming you want to clone the repository to the current working directory\n",
      "# without specifying a directory name:\n",
      "cloner = GitRepositoryCloner()\n",
      "result = cloner.clone_repository(\"https://github.com/exampleuser/example-repo.git\")\n",
      "print(\"Repository cloned successfully.\" if result else \"Failed to clone repository.\")\n",
      "```\n",
      "\n",
      "This class defines a method `clone_repository` that takes a repository URL and an optional directory name as arguments. If cloning succeeds, it returns `True`; if it fails (e.g., because of an invalid repository URL, lack of internet connection, or insufficient permissions), it returns `False`. The subprocess `run` method executes the git command and raises a `CalledProcessError` if the git process exits with a non-zero status, which is caught and results in a return value of `False`.\n",
      "\n",
      "Please ensure that the environment where you execute this code has `git` installed and accessible from the command line. Also, remember that the `clone_directory` argument is optional. If not provided, git will clone the repository into a new directory with the same name as the repository under the current working directory.\n",
      "\n",
      "\n",
      "================\n",
      "[Used tokens: 0.00%]\n",
      "================\n",
      "\n",
      "\n",
      "\n",
      "================\n",
      "[Used tokens: 0.66%]\n",
      "================\n",
      "\n"
     ]
    }
   ],
   "source": [
    "with usage: # track the token usage how much we can converse without cutting off\n",
    "    conv(f\"Implement the code missing in the class to clone a repository based on an URL. Also write proper Python documentation.\") # query the conversation expression"
   ]
  },
  {
   "cell_type": "code",
   "execution_count": 1,
   "metadata": {},
   "outputs": [
    {
     "name": "stdout",
     "output_type": "stream",
     "text": [
      "The contents provided seem to suggest a request to retrieve data from a generator object, but no specific pseudo algorithm is available to base the Python code on. Generator objects in Python are created by functions that yield values instead of returning a final value.\n",
      "\n",
      "If you were asking to generate Python code from a pseudo algorithm to retrieve the next value from a generator object, the code could look something like this:\n",
      "\n",
      "```python\n",
      "# Assuming 'gen_object' is the generator object that we need to retrieve values from\n",
      "\n",
      "# Create the generator object (for illustration purposes)\n",
      "def sample_generator():\n",
      "    for i in range(3):\n",
      "        yield i\n",
      "\n",
      "# Replace the above 'sample_generator' with the actual generator creation logic\n",
      "gen_object = sample_generator()\n",
      "\n",
      "# Retrieve the next value from the generator object\n",
      "try:\n",
      "    next_value = next(gen_object)\n",
      "    print(f\"The next value from the generator object is: {next_value}\")\n",
      "except StopIteration:\n",
      "    print(\"The generator has no more items.\")\n",
      "```\n",
      "\n",
      "However, since the specific pseudo algorithm details are missing, I can't provide an exact translation to Python code. Please provide the pseudo algorithm you wish to convert into Python code.\n",
      "\n",
      "\n",
      "================\n",
      "[Used tokens: 0.00%]\n",
      "================\n",
      "\n",
      "\n",
      "\n",
      "================\n",
      "[Used tokens: 0.30%]\n",
      "================\n",
      "\n"
     ]
    }
   ],
   "source": [
    "from symai.components import TokenTracker, Stream\n",
    "from symai.backend.mixin.tracker import OpenAICostTracker\n",
    "from symai import *\n",
    "website = 'wyour datddy' # load page\n",
    "\n",
    "with OpenAICostTracker() as tracker: # track the cost using OpenAI API\n",
    "    with Stream() as stream: # stream over the too long website content\n",
    "        fn = Function('Extract algorithm from website') # define function to operate on the stream\n",
    "        res = stream(website) # stream over the website content\n",
    "    conv = Conversation(init=res, file_link='/Users/xpitfire/create_new_a_star.py') # create conversation with file link\n",
    "    with TokenTracker() as usage: # track the token usage how much we can converse without cutting off\n",
    "        conv(f\"Generate from the pseudo algorithm corresponding python code:\") # query the conversation expression\n",
    "    conv.commit() # extract code and commit to the file"
   ]
  },
  {
   "cell_type": "code",
   "execution_count": 2,
   "metadata": {},
   "outputs": [
    {
     "name": "stdout",
     "output_type": "stream",
     "text": [
      "\n",
      "[BREAKDOWN]\n",
      "-=--=--=--=--=--=--=--=--=--=--=--=--=-\n",
      "\n",
      "gpt-4-1106-preview usage:\n",
      "    $0.020 for 808 input tokens and 412 output tokens\n",
      "\n",
      "text-embedding-ada-002 usage:\n",
      "    $0.000 for 0 tokens\n",
      "\n",
      "Total:\n",
      "    $0.020\n",
      "\n",
      "-=--=--=--=--=--=--=--=--=--=--=--=--=-\n",
      "\n",
      "Zero-shot calls: 0\n",
      "\n",
      "-=--=--=--=--=--=--=--=--=--=--=--=--=-\n",
      "\n",
      "Few-shot calls: 2\n",
      "\n",
      "-=--=--=--=--=--=--=--=--=--=--=--=--=-\n",
      "\n"
     ]
    }
   ],
   "source": [
    "print(tracker)"
   ]
  },
  {
   "cell_type": "code",
   "execution_count": 1,
   "metadata": {},
   "outputs": [],
   "source": [
    "from symai.components import Indexer"
   ]
  },
  {
   "cell_type": "code",
   "execution_count": 2,
   "metadata": {},
   "outputs": [],
   "source": [
    "indexer = Indexer()"
   ]
  },
  {
   "cell_type": "code",
   "execution_count": 1,
   "metadata": {},
   "outputs": [
    {
     "name": "stderr",
     "output_type": "stream",
     "text": [
      "2023-11-30 23:14:08,431 ====== WebDriver manager ======\n",
      "2023-11-30 23:14:08,707 Get LATEST chromedriver version for google-chrome\n",
      "2023-11-30 23:14:08,768 Get LATEST chromedriver version for google-chrome\n",
      "2023-11-30 23:14:08,811 Driver [/Users/xpitfire/.wdm/drivers/chromedriver/mac64/119.0.6045.105/chromedriver-mac-x64/chromedriver] found in cache\n"
     ]
    }
   ],
   "source": [
    "from symai import Interface\n",
    "res = Interface('selenium')('https://www.baidu-venture.net/touzizuhe.html')"
   ]
  },
  {
   "cell_type": "code",
   "execution_count": 2,
   "metadata": {},
   "outputs": [
    {
     "data": {
      "text/plain": [
       "'Using this website means that you agree to our use of cookies. We use cookies to provide you with a good experience and help our website operate effectively.'"
      ]
     },
     "execution_count": 2,
     "metadata": {},
     "output_type": "execute_result"
    }
   ],
   "source": [
    "res.value"
   ]
  },
  {
   "cell_type": "code",
   "execution_count": 3,
   "metadata": {},
   "outputs": [],
   "source": [
    "from symai import Symbol\n",
    "from symai.components import Stream"
   ]
  },
  {
   "cell_type": "code",
   "execution_count": 4,
   "metadata": {},
   "outputs": [],
   "source": [
    "sym = Symbol(res) # convert to symbol"
   ]
  },
  {
   "cell_type": "code",
   "execution_count": 5,
   "metadata": {},
   "outputs": [],
   "source": [
    "sym.save('../outputs/tmp.html')"
   ]
  },
  {
   "cell_type": "code",
   "execution_count": 6,
   "metadata": {},
   "outputs": [
    {
     "data": {
      "text/plain": [
       "30"
      ]
     },
     "execution_count": 6,
     "metadata": {},
     "output_type": "execute_result"
    }
   ],
   "source": [
    "len(res)"
   ]
  },
  {
   "cell_type": "code",
   "execution_count": 17,
   "metadata": {},
   "outputs": [],
   "source": [
    "with Stream(retrieval='all') as stream:\n",
    "    fn = Function('Give a list of all investors')\n",
    "    inv = stream(res)"
   ]
  },
  {
   "cell_type": "code",
   "execution_count": 18,
   "metadata": {},
   "outputs": [
    {
     "data": {
      "text/plain": [
       "[<class symai.symbol.Symbol at 0x7f82b1530c10>(value=It seems there is a misunderstanding. \"Baiduventure\" is not a recognized term, nor does it appear to be an investor or investment firm. If you are referring to Baidu Ventures (BV), this is the venture capital arm of Baidu, which is a leading Chinese internet services company. Baidu Ventures focuses on investing in early-stage startups in the AI, AR/VR, and IoT (Internet of Things) sectors among others.\n",
       " \n",
       " If you're requesting a list of all investors in general, that's an incredibly broad and nearly impossible task as there are countless investors worldwide. They range from individual angel investors, venture capitalists, and private equity firms to banks, pension funds, sovereign wealth funds, and corporations.\n",
       " \n",
       " If you're seeking a list of investors in a specific company, sector, or for a particular type of investment (like startups, real estate, etc.), please provide more details so that I could offer a more targeted list or information according to the knowledge cutoff date.)]"
      ]
     },
     "execution_count": 18,
     "metadata": {},
     "output_type": "execute_result"
    }
   ],
   "source": [
    "inv"
   ]
  },
  {
   "cell_type": "code",
   "execution_count": 1,
   "metadata": {},
   "outputs": [],
   "source": [
    "from symai.components import *"
   ]
  },
  {
   "cell_type": "code",
   "execution_count": 2,
   "metadata": {},
   "outputs": [
    {
     "data": {
      "text/html": [
       "{\n",
       "  \"search_metadata\": {\n",
       "    \"id\": \"65690967f636ffdc29ae212a\",\n",
       "    \"status\": \"Success\",\n",
       "    \"json_endpoint\": \"https://serpapi.com/searches/c370a65f120cb8bc/65690967f636ffdc29ae212a.json\",\n",
       "    \"created_at\": \"2023-11-30 22:15:03 UTC\",\n",
       "    \"processed_at\": \"2023-11-30 22:15:03 UTC\",\n",
       "    \"google_url\": \"https://www.google.com/search?q=Who+is+the+investor+of+PyTorch%3F&oq=Who+is+the+investor+of+PyTorch%3F&hl=en&gl=us&sourceid=chrome&ie=UTF-8\",\n",
       "    \"raw_html_file\": \"https://serpapi.com/searches/c370a65f120cb8bc/65690967f636ffdc29ae212a.html\",\n",
       "    \"total_time_taken\": 1.17\n",
       "  },\n",
       "  \"search_parameters\": {\n",
       "    \"engine\": \"google\",\n",
       "    \"q\": \"Who is the investor of PyTorch?\",\n",
       "    \"google_domain\": \"google.com\",\n",
       "    \"hl\": \"en\",\n",
       "    \"gl\": \"us\",\n",
       "    \"device\": \"desktop\"\n",
       "  },\n",
       "  \"search_information\": {\n",
       "    \"query_displayed\": \"Who is the investor of PyTorch?\",\n",
       "    \"total_results\": 378000,\n",
       "    \"time_taken_displayed\": 0.86,\n",
       "    \"menu_items\": [\n",
       "      {\n",
       "        \"position\": 1,\n",
       "        \"title\": \"Images\",\n",
       "        \"link\": \"https://www.google.com/search?sca_esv=f4dbf1826554685d&q=Who+is+the+investor+of+PyTorch%3F&tbm=isch&source=lnms&sa=X&ved=2ahUKEwiw2fbd3-yCAxWsSjABHRMJAmUQ0pQJegQIDBAB\",\n",
       "        \"serpapi_link\": \"https://serpapi.com/search.json?device=desktop&engine=google_images&gl=us&google_domain=google.com&hl=en&q=Who+is+the+investor+of+PyTorch%3F\"\n",
       "      },\n",
       "      {\n",
       "        \"position\": 2,\n",
       "        \"title\": \"In python\",\n",
       "        \"link\": \"https://www.google.com/search?sca_esv=f4dbf1826554685d&q=Who+is+the+investor+of+pytorch+in+python&uds=H4sIAAAAAAAA_-OK4OL0zFMoqCzJyM8Tkg_PyFfILFYoyUhVyMwrSy0uyS9SyE9TCKgMyS9KzrA3ECrSwKEEaAJICVAMapgRIcMAp7Sn33sAAAA&sa=X&ved=2ahUKEwiw2fbd3-yCAxWsSjABHRMJAmUQxKsJegQICBAB&ictx=0\",\n",
       "        \"serpapi_link\": \"https://serpapi.com/search.json?device=desktop&engine=google&google_domain=google.com&q=Who+is+the+investor+of+pytorch+in+python\"\n",
       "      },\n",
       "      {\n",
       "        \"position\": 3,\n",
       "        \"title\": \"News\",\n",
       "        \"link\": \"https://www.google.com/search?sca_esv=f4dbf1826554685d&q=Who+is+the+investor+of+PyTorch%3F&tbm=nws&source=lnms&sa=X&ved=2ahUKEwiw2fbd3-yCAxWsSjABHRMJAmUQ0pQJegQICxAB\",\n",
       "        \"serpapi_link\": \"https://serpapi.com/search.json?device=desktop&engine=google&google_domain=google.com&q=Who+is+the+investor+of+PyTorch%3F&tbm=nws\"\n",
       "      },\n",
       "      {\n",
       "        \"position\": 4,\n",
       "        \"title\": \"Videos\",\n",
       "        \"link\": \"https://www.google.com/search?sca_esv=f4dbf1826554685d&q=Who+is+the+investor+of+PyTorch%3F&tbm=vid&source=lnms&sa=X&ved=2ahUKEwiw2fbd3-yCAxWsSjABHRMJAmUQ0pQJegQIChAB\",\n",
       "        \"serpapi_link\": \"https://serpapi.com/search.json?device=desktop&engine=google_videos&gl=us&google_domain=google.com&hl=en&q=Who+is+the+investor+of+PyTorch%3F\"\n",
       "      },\n",
       "      {\n",
       "        \"position\": 5,\n",
       "        \"title\": \"Shopping\",\n",
       "        \"link\": \"https://www.google.com/search?sca_esv=f4dbf1826554685d&q=Who+is+the+investor+of+PyTorch%3F&tbm=shop&source=lnms&sa=X&ved=2ahUKEwiw2fbd3-yCAxWsSjABHRMJAmUQ0pQJegQISBAB\",\n",
       "        \"serpapi_link\": \"https://serpapi.com/search.json?device=desktop&engine=google_shopping&gl=us&google_domain=google.com&hl=en&q=Who+is+the+investor+of+PyTorch%3F\"\n",
       "      },\n",
       "      {\n",
       "        \"position\": 6,\n",
       "        \"title\": \"Books\",\n",
       "        \"link\": \"https://www.google.com/search?sca_esv=f4dbf1826554685d&q=Who+is+the+investor+of+PyTorch%3F&tbm=bks&source=lnms&sa=X&ved=2ahUKEwiw2fbd3-yCAxWsSjABHRMJAmUQ0pQJegQISxAB\"\n",
       "      },\n",
       "      {\n",
       "        \"position\": 7,\n",
       "        \"title\": \"Maps\",\n",
       "        \"link\": \"https://maps.google.com/maps?sca_esv=f4dbf1826554685d&output=search&q=Who+is+the+investor+of+PyTorch?&source=lnms&entry=mc&sa=X&ved=2ahUKEwiw2fbd3-yCAxWsSjABHRMJAmUQ0pQJegQISRAB\"\n",
       "      },\n",
       "      {\n",
       "        \"position\": 8,\n",
       "        \"title\": \"Flights\",\n",
       "        \"link\": \"https://www.google.com/travel/flights?sca_esv=f4dbf1826554685d&output=search&q=Who+is+the+investor+of+PyTorch%3F&source=lnms&sa=X&ved=2ahUKEwiw2fbd3-yCAxWsSjABHRMJAmUQ0pQJegQIShAB\"\n",
       "      },\n",
       "      {\n",
       "        \"position\": 9,\n",
       "        \"title\": \"Finance\",\n",
       "        \"link\": \"https://www.google.com/finance?sca_esv=f4dbf1826554685d&output=search&q=Who+is+the+investor+of+PyTorch%3F&source=lnms&sa=X&ved=2ahUKEwiw2fbd3-yCAxWsSjABHRMJAmUQ0pQJegQITBAB\"\n",
       "      }\n",
       "    ],\n",
       "    \"organic_results_state\": \"Results for exact spelling\"\n",
       "  },\n",
       "  \"related_questions\": [\n",
       "    {\n",
       "      \"question\": \"Which company owns PyTorch?\",\n",
       "      \"snippet\": \"PyTorch is a machine learning framework based on the Torch library, used for applications such as computer vision and natural language processing, originally developed by Meta AI and now part of the Linux Foundation umbrella.\",\n",
       "      \"title\": \"PyTorch - Wikipedia\",\n",
       "      \"link\": \"https://en.wikipedia.org/wiki/PyTorch#:~:text=PyTorch%20is%20a%20machine%20learning,of%20the%20Linux%20Foundation%20umbrella.\",\n",
       "      \"displayed_link\": \"https://en.wikipedia.org \\u203a wiki \\u203a PyTorch\",\n",
       "      \"thumbnail\": \"https://serpapi.com/searches/65690967f636ffdc29ae212a/images/629d11c50d0594dbfe68326d8ddb387db345085bb5faa6b4bbf1180e1dea62e2.png\",\n",
       "      \"next_page_token\": \"eyJvbnMiOiIxMDA0MSIsImZjIjoiRW9zQkNreEJURTl1Y0ZsWFRGZHdaVk5oVTAxRU5GcDNZa0p3TkZOdE9HUmphalo0TFVGTFR6QlBOM1IxV2xwc1dtc3dRMDFETVMwMU4yZGZNV1ZsWWpBNWVUZGZZMGxtUTJWWFdWRkVSSGsyRWhkYWQyeHdXbVpEU2tZMmVWWjNZbXRRYXpWTFNYRkJXUm9pUVVwM2F5MDRaVGR5ZFRoSGVVdEJkVnBLTUVRM1ZFaDFNM1pQYW1KRU1reFBadyIsImZjdiI6IjMiLCJlaSI6Ilp3bHBaZkNKRjZ5Vndia1BrNUtJcUFZIiwicWMiOiJDaDUzYUc4Z2FYTWdkR2hsSUdsdWRtVnpkRzl5SUc5bUlIQjVkRzl5WTJnUUFIMjNheDBfIiwicXVlc3Rpb24iOiJXaGljaCBjb21wYW55IG93bnMgUHlUb3JjaD8iLCJsayI6IkdocDNhR2xqYUNCamIyMXdZVzU1SUc5M2JuTWdjSGwwYjNKamFBIiwiYnMiOiJjLU5TNEpJT3o4aE16bEJJenM4dFNNeXJWTWd2enl0V0NLZ015UzlLenJDWDJHX1BwY1FsNndrWEFVbW5waWdrVlNxNEpTYW5KdVhuWjl0TFRLcmdVdWFTQzhfSVY4Z3NWaWpKU0ZWSXl5X05TMGt0VXNoUFF4ZzBOWnBMaTB2VkpULTFXQ0VrdFRnblVhRzBPQlZoYUJGUU1LODR2OGd0SjdfY1h1Sy1uQUFqQUEiLCJpZCI6ImZjXzEifQ==\",\n",
       "      \"serpapi_link\": \"https://serpapi.com/search.json?device=desktop&engine=google_related_questions&google_domain=google.com&next_page_token=eyJvbnMiOiIxMDA0MSIsImZjIjoiRW9zQkNreEJURTl1Y0ZsWFRGZHdaVk5oVTAxRU5GcDNZa0p3TkZOdE9HUmphalo0TFVGTFR6QlBOM1IxV2xwc1dtc3dRMDFETVMwMU4yZGZNV1ZsWWpBNWVUZGZZMGxtUTJWWFdWRkVSSGsyRWhkYWQyeHdXbVpEU2tZMmVWWjNZbXRRYXpWTFNYRkJXUm9pUVVwM2F5MDRaVGR5ZFRoSGVVdEJkVnBLTUVRM1ZFaDFNM1pQYW1KRU1reFBadyIsImZjdiI6IjMiLCJlaSI6Ilp3bHBaZkNKRjZ5Vndia1BrNUtJcUFZIiwicWMiOiJDaDUzYUc4Z2FYTWdkR2hsSUdsdWRtVnpkRzl5SUc5bUlIQjVkRzl5WTJnUUFIMjNheDBfIiwicXVlc3Rpb24iOiJXaGljaCBjb21wYW55IG93bnMgUHlUb3JjaD8iLCJsayI6IkdocDNhR2xqYUNCamIyMXdZVzU1SUc5M2JuTWdjSGwwYjNKamFBIiwiYnMiOiJjLU5TNEpJT3o4aE16bEJJenM4dFNNeXJWTWd2enl0V0NLZ015UzlLenJDWDJHX1BwY1FsNndrWEFVbW5waWdrVlNxNEpTYW5KdVhuWjl0TFRLcmdVdWFTQzhfSVY4Z3NWaWpKU0ZWSXl5X05TMGt0VXNoUFF4ZzBOWnBMaTB2VkpULTFXQ0VrdFRnblVhRzBPQlZoYUJGUU1LODR2OGd0SjdfY1h1Sy1uQUFqQUEiLCJpZCI6ImZjXzEifQ%3D%3D\"\n",
       "    },\n",
       "    {\n",
       "      \"question\": \"Is PyTorch owned by Facebook?\",\n",
       "      \"snippet\": \"Based on the former Torch library, PyTorch was officially launched in 2016 by a team from Facebook's research lab, and has been developed in open source ever since. The goal of this framework is to enable the implementation and training of Deep Learning models in a simple and efficient way.\",\n",
       "      \"title\": \"PyTorch: all about Facebook's Deep Learning framework\",\n",
       "      \"date\": \"Mar 30, 2023\",\n",
       "      \"link\": \"https://datascientest.com/en/pytorch-all-about-this-framework#:~:text=Based%20on%20the%20former%20Torch,a%20simple%20and%20efficient%20way.\",\n",
       "      \"displayed_link\": \"https://datascientest.com \\u203a pytorch-all-about-this-framew...\",\n",
       "      \"thumbnail\": \"https://encrypted-tbn0.gstatic.com/images?q=tbn:ANd9GcSGFBwfmEf76bMIMvVQdkcCoDW1IktqobehQ0TawqAfzw&s\",\n",
       "      \"next_page_token\": \"eyJvbnMiOiIxMDA0MSIsImZjIjoiRW9zQkNreEJURTl1Y0ZsWFRGZHdaVk5oVTAxRU5GcDNZa0p3TkZOdE9HUmphalo0TFVGTFR6QlBOM1IxV2xwc1dtc3dRMDFETVMwMU4yZGZNV1ZsWWpBNWVUZGZZMGxtUTJWWFdWRkVSSGsyRWhkYWQyeHdXbVpEU2tZMmVWWjNZbXRRYXpWTFNYRkJXUm9pUVVwM2F5MDRaVGR5ZFRoSGVVdEJkVnBLTUVRM1ZFaDFNM1pQYW1KRU1reFBadyIsImZjdiI6IjMiLCJlaSI6Ilp3bHBaZkNKRjZ5Vndia1BrNUtJcUFZIiwicWMiOiJDaDUzYUc4Z2FYTWdkR2hsSUdsdWRtVnpkRzl5SUc5bUlIQjVkRzl5WTJnUUFIMjNheDBfIiwicXVlc3Rpb24iOiJJcyBQeVRvcmNoIG93bmVkIGJ5IEZhY2Vib29rPyIsImxrIjoiR2h4cGN5QndlWFJ2Y21Ob0lHOTNibVZrSUdKNUlHWmhZMlZpYjI5ciIsImJzIjoiYy1OUzRKSU96OGhNemxCSXpzOHRTTXlyVk1ndnp5dFdDS2dNeVM5S3pyQ1gyR19QcGNRbDZ3a1hBVW1ucGlna1ZTcTRKU2FuSnVYblo5dExUS3JnVXVhU0M4X0lWOGdzVmlqSlNGVkl5eV9OUzBrdFVzaFBReGcwTlpwTGkwdlZKVC0xV0NFa3RUZ25VYUcwT0JWaGFCRlFNSzg0djhndEo3X2NYdUstbkFBakFBIiwiaWQiOiJmY18xIn0=\",\n",
       "      \"serpapi_link\": \"https://serpapi.com/search.json?device=desktop&engine=google_related_questions&google_domain=google.com&next_page_token=eyJvbnMiOiIxMDA0MSIsImZjIjoiRW9zQkNreEJURTl1Y0ZsWFRGZHdaVk5oVTAxRU5GcDNZa0p3TkZOdE9HUmphalo0TFVGTFR6QlBOM1IxV2xwc1dtc3dRMDFETVMwMU4yZGZNV1ZsWWpBNWVUZGZZMGxtUTJWWFdWRkVSSGsyRWhkYWQyeHdXbVpEU2tZMmVWWjNZbXRRYXpWTFNYRkJXUm9pUVVwM2F5MDRaVGR5ZFRoSGVVdEJkVnBLTUVRM1ZFaDFNM1pQYW1KRU1reFBadyIsImZjdiI6IjMiLCJlaSI6Ilp3bHBaZkNKRjZ5Vndia1BrNUtJcUFZIiwicWMiOiJDaDUzYUc4Z2FYTWdkR2hsSUdsdWRtVnpkRzl5SUc5bUlIQjVkRzl5WTJnUUFIMjNheDBfIiwicXVlc3Rpb24iOiJJcyBQeVRvcmNoIG93bmVkIGJ5IEZhY2Vib29rPyIsImxrIjoiR2h4cGN5QndlWFJ2Y21Ob0lHOTNibVZrSUdKNUlHWmhZMlZpYjI5ciIsImJzIjoiYy1OUzRKSU96OGhNemxCSXpzOHRTTXlyVk1ndnp5dFdDS2dNeVM5S3pyQ1gyR19QcGNRbDZ3a1hBVW1ucGlna1ZTcTRKU2FuSnVYblo5dExUS3JnVXVhU0M4X0lWOGdzVmlqSlNGVkl5eV9OUzBrdFVzaFBReGcwTlpwTGkwdlZKVC0xV0NFa3RUZ25VYUcwT0JWaGFCRlFNSzg0djhndEo3X2NYdUstbkFBakFBIiwiaWQiOiJmY18xIn0%3D\"\n",
       "    },\n",
       "    {\n",
       "      \"question\": \"Who is the founder of PyTorch?\",\n",
       "      \"snippet\": \"PyTorch was developed by Facebook's AI Research lab (FAIR), which is now Meta. PyTorch development began in 2016 as an internship project by Adam Paszke.\",\n",
       "      \"title\": \"PyTorch - Wiki - Golden\",\n",
       "      \"link\": \"https://golden.com/wiki/PyTorch-NMGD4Y4#:~:text=PyTorch%20was%20developed%20by%20Facebook's,internship%20project%20by%20Adam%20Paszke.\",\n",
       "      \"displayed_link\": \"https://golden.com \\u203a wiki \\u203a PyTorch-NMGD4Y4\",\n",
       "      \"next_page_token\": \"eyJvbnMiOiIxMDA0MSIsImZjIjoiRW9zQkNreEJURTl1Y0ZsWFRGZHdaVk5oVTAxRU5GcDNZa0p3TkZOdE9HUmphalo0TFVGTFR6QlBOM1IxV2xwc1dtc3dRMDFETVMwMU4yZGZNV1ZsWWpBNWVUZGZZMGxtUTJWWFdWRkVSSGsyRWhkYWQyeHdXbVpEU2tZMmVWWjNZbXRRYXpWTFNYRkJXUm9pUVVwM2F5MDRaVGR5ZFRoSGVVdEJkVnBLTUVRM1ZFaDFNM1pQYW1KRU1reFBadyIsImZjdiI6IjMiLCJlaSI6Ilp3bHBaZkNKRjZ5Vndia1BrNUtJcUFZIiwicWMiOiJDaDUzYUc4Z2FYTWdkR2hsSUdsdWRtVnpkRzl5SUc5bUlIQjVkRzl5WTJnUUFIMjNheDBfIiwicXVlc3Rpb24iOiJXaG8gaXMgdGhlIGZvdW5kZXIgb2YgUHlUb3JjaD8iLCJsayI6IkdoMTNhRzhnYVhNZ2RHaGxJR1p2ZFc1a1pYSWdiMllnY0hsMGIzSmphQSIsImJzIjoiYy1OUzRKSU96OGhNemxCSXpzOHRTTXlyVk1ndnp5dFdDS2dNeVM5S3pyQ1gyR19QcGNRbDZ3a1hBVW1ucGlna1ZTcTRKU2FuSnVYblo5dExUS3JnVXVhU0M4X0lWOGdzVmlqSlNGVkl5eV9OUzBrdFVzaFBReGcwTlpwTGkwdlZKVC0xV0NFa3RUZ25VYUcwT0JWaGFCRlFNSzg0djhndEo3X2NYdUstbkFBakFBIiwiaWQiOiJmY18xIn0=\",\n",
       "      \"serpapi_link\": \"https://serpapi.com/search.json?device=desktop&engine=google_related_questions&google_domain=google.com&next_page_token=eyJvbnMiOiIxMDA0MSIsImZjIjoiRW9zQkNreEJURTl1Y0ZsWFRGZHdaVk5oVTAxRU5GcDNZa0p3TkZOdE9HUmphalo0TFVGTFR6QlBOM1IxV2xwc1dtc3dRMDFETVMwMU4yZGZNV1ZsWWpBNWVUZGZZMGxtUTJWWFdWRkVSSGsyRWhkYWQyeHdXbVpEU2tZMmVWWjNZbXRRYXpWTFNYRkJXUm9pUVVwM2F5MDRaVGR5ZFRoSGVVdEJkVnBLTUVRM1ZFaDFNM1pQYW1KRU1reFBadyIsImZjdiI6IjMiLCJlaSI6Ilp3bHBaZkNKRjZ5Vndia1BrNUtJcUFZIiwicWMiOiJDaDUzYUc4Z2FYTWdkR2hsSUdsdWRtVnpkRzl5SUc5bUlIQjVkRzl5WTJnUUFIMjNheDBfIiwicXVlc3Rpb24iOiJXaG8gaXMgdGhlIGZvdW5kZXIgb2YgUHlUb3JjaD8iLCJsayI6IkdoMTNhRzhnYVhNZ2RHaGxJR1p2ZFc1a1pYSWdiMllnY0hsMGIzSmphQSIsImJzIjoiYy1OUzRKSU96OGhNemxCSXpzOHRTTXlyVk1ndnp5dFdDS2dNeVM5S3pyQ1gyR19QcGNRbDZ3a1hBVW1ucGlna1ZTcTRKU2FuSnVYblo5dExUS3JnVXVhU0M4X0lWOGdzVmlqSlNGVkl5eV9OUzBrdFVzaFBReGcwTlpwTGkwdlZKVC0xV0NFa3RUZ25VYUcwT0JWaGFCRlFNSzg0djhndEo3X2NYdUstbkFBakFBIiwiaWQiOiJmY18xIn0%3D\"\n",
       "    },\n",
       "    {\n",
       "      \"question\": \"Does Tesla use PyTorch or TensorFlow?\",\n",
       "      \"snippet\": \"Tesla uses PyTorch for Autopilot, their self-driving technology. The company uses PyTorch to train networks to complete tasks for their computer vision applications, including object detection and depth modeling.\",\n",
       "      \"title\": \"What Is PyTorch? (Definition, How It Works, Benefits) | Built In\",\n",
       "      \"date\": \"Dec 19, 2022\",\n",
       "      \"link\": \"https://builtin.com/machine-learning/pytorch#:~:text=Tesla%20uses%20PyTorch%20for%20Autopilot,object%20detection%20and%20depth%20modeling.\",\n",
       "      \"displayed_link\": \"https://builtin.com \\u203a machine-learning \\u203a pytorch\",\n",
       "      \"thumbnail\": \"https://serpapi.com/searches/65690967f636ffdc29ae212a/images/629d11c50d0594dbfe68326d8ddb387de63389a30d2b503812c8f4f08570aa68.png\",\n",
       "      \"next_page_token\": \"eyJvbnMiOiIxMDA0MSIsImZjIjoiRW9zQkNreEJURTl1Y0ZsWFRGZHdaVk5oVTAxRU5GcDNZa0p3TkZOdE9HUmphalo0TFVGTFR6QlBOM1IxV2xwc1dtc3dRMDFETVMwMU4yZGZNV1ZsWWpBNWVUZGZZMGxtUTJWWFdWRkVSSGsyRWhkYWQyeHdXbVpEU2tZMmVWWjNZbXRRYXpWTFNYRkJXUm9pUVVwM2F5MDRaVGR5ZFRoSGVVdEJkVnBLTUVRM1ZFaDFNM1pQYW1KRU1reFBadyIsImZjdiI6IjMiLCJlaSI6Ilp3bHBaZkNKRjZ5Vndia1BrNUtJcUFZIiwicWMiOiJDaDUzYUc4Z2FYTWdkR2hsSUdsdWRtVnpkRzl5SUc5bUlIQjVkRzl5WTJnUUFIMjNheDBfIiwicXVlc3Rpb24iOiJEb2VzIFRlc2xhIHVzZSBQeVRvcmNoIG9yIFRlbnNvckZsb3c/IiwibGsiOiJHaVJrYjJWeklIUmxjMnhoSUhWelpTQndlWFJ2Y21Ob0lHOXlJSFJsYm5OdmNtWnNiM2MiLCJicyI6ImMtTlM0SklPejhoTXpsQkl6czh0U015clZNZ3Z6eXRXQ0tnTXlTOUt6ckNYMkdfUHBjUWw2d2tYQVVtbnBpZ2tWU3E0SlNhbkp1WG5aOXRMVEtyZ1V1YVNDOF9JVjhnc1ZpakpTRlZJeXlfTlMwa3RVc2hQUXhnME5acExpMHZWSlQtMVdDRWt0VGduVWFHME9CVmhhQkZRTUs4NHY4Z3RKN19jWHVLLW5BQWpBQSIsImlkIjoiZmNfMSJ9\",\n",
       "      \"serpapi_link\": \"https://serpapi.com/search.json?device=desktop&engine=google_related_questions&google_domain=google.com&next_page_token=eyJvbnMiOiIxMDA0MSIsImZjIjoiRW9zQkNreEJURTl1Y0ZsWFRGZHdaVk5oVTAxRU5GcDNZa0p3TkZOdE9HUmphalo0TFVGTFR6QlBOM1IxV2xwc1dtc3dRMDFETVMwMU4yZGZNV1ZsWWpBNWVUZGZZMGxtUTJWWFdWRkVSSGsyRWhkYWQyeHdXbVpEU2tZMmVWWjNZbXRRYXpWTFNYRkJXUm9pUVVwM2F5MDRaVGR5ZFRoSGVVdEJkVnBLTUVRM1ZFaDFNM1pQYW1KRU1reFBadyIsImZjdiI6IjMiLCJlaSI6Ilp3bHBaZkNKRjZ5Vndia1BrNUtJcUFZIiwicWMiOiJDaDUzYUc4Z2FYTWdkR2hsSUdsdWRtVnpkRzl5SUc5bUlIQjVkRzl5WTJnUUFIMjNheDBfIiwicXVlc3Rpb24iOiJEb2VzIFRlc2xhIHVzZSBQeVRvcmNoIG9yIFRlbnNvckZsb3c%2FIiwibGsiOiJHaVJrYjJWeklIUmxjMnhoSUhWelpTQndlWFJ2Y21Ob0lHOXlJSFJsYm5OdmNtWnNiM2MiLCJicyI6ImMtTlM0SklPejhoTXpsQkl6czh0U015clZNZ3Z6eXRXQ0tnTXlTOUt6ckNYMkdfUHBjUWw2d2tYQVVtbnBpZ2tWU3E0SlNhbkp1WG5aOXRMVEtyZ1V1YVNDOF9JVjhnc1ZpakpTRlZJeXlfTlMwa3RVc2hQUXhnME5acExpMHZWSlQtMVdDRWt0VGduVWFHME9CVmhhQkZRTUs4NHY4Z3RKN19jWHVLLW5BQWpBQSIsImlkIjoiZmNfMSJ9\"\n",
       "    }\n",
       "  ],\n",
       "  \"answer_box\": {\n",
       "    \"type\": \"organic_result\",\n",
       "    \"title\": \"PyTorch strengthens its governance by joining the Linux ...\",\n",
       "    \"link\": \"https://pytorch.org/blog/PyTorchfoundation/#:~:text=While%20Meta%20remains%20the%20largest,contributions%20and%20community%20building%20efforts.\",\n",
       "    \"displayed_link\": \"https://pytorch.org \\u203a blog \\u203a PyTorchfoundation\",\n",
       "    \"date\": \"Sep 12, 2022\",\n",
       "    \"snippet\": \"While Meta remains the largest contributor to PyTorch, companies such as AMD, Amazon Web Services (AWS), Google Cloud, HuggingFace, Lightning AI, Microsoft Azure, Nvidia, and many others have made significant investments, including both technical contributions and community building efforts.\",\n",
       "    \"snippet_highlighted_words\": [\n",
       "      \"AMD, Amazon Web Services (AWS), Google Cloud, HuggingFace, Lightning AI, Microsoft Azure, Nvidia\"\n",
       "    ],\n",
       "    \"favicon\": \"https://serpapi.com/searches/65690967f636ffdc29ae212a/images/bb5521415d716845cf635ae908fd89cf8602c0d8dd86c40e.png\",\n",
       "    \"source\": \"PyTorch\",\n",
       "    \"about_this_result\": {}\n",
       "  },\n",
       "  \"organic_results\": [\n",
       "    {\n",
       "      \"position\": 1,\n",
       "      \"title\": \"Announcing the PyTorch Foundation to Accelerate ...\",\n",
       "      \"link\": \"https://about.fb.com/news/2022/09/pytorch-foundation-to-accelerate-progress-in-ai-research/\",\n",
       "      \"displayed_link\": \"https://about.fb.com \\u203a news \\u203a 2022/09 \\u203a pytorch-foun...\",\n",
       "      \"favicon\": \"https://serpapi.com/searches/65690967f636ffdc29ae212a/images/829e0d57c100b49ab22415e65699ec7874359cf6c3d7181cbd0b4e42897f6718.png\",\n",
       "      \"date\": \"Sep 12, 2022\",\n",
       "      \"snippet\": \"Today, Mark Zuckerberg announced that the project will transition to a newly launched PyTorch Foundation, which will be part of the nonprofit ...\",\n",
       "      \"snippet_highlighted_words\": [\n",
       "        \"Mark Zuckerberg\"\n",
       "      ],\n",
       "      \"about_page_link\": \"https://www.google.com/search?q=About+https://about.fb.com/news/2022/09/pytorch-foundation-to-accelerate-progress-in-ai-research/&tbm=ilp\",\n",
       "      \"about_page_serpapi_link\": \"https://serpapi.com/search.json?engine=google_about_this_result&google_domain=google.com&q=About+https%3A%2F%2Fabout.fb.com%2Fnews%2F2022%2F09%2Fpytorch-foundation-to-accelerate-progress-in-ai-research%2F\",\n",
       "      \"cached_page_link\": \"https://webcache.googleusercontent.com/search?q=cache:t8OkEwCU-fgJ:https://about.fb.com/news/2022/09/pytorch-foundation-to-accelerate-progress-in-ai-research/&hl=en&gl=us\",\n",
       "      \"source\": \"Meta\"\n",
       "    },\n",
       "    {\n",
       "      \"position\": 2,\n",
       "      \"title\": \"PyTorch - Crunchbase Company Profile & Funding\",\n",
       "      \"link\": \"https://www.crunchbase.com/organization/pytorch\",\n",
       "      \"displayed_link\": \"https://www.crunchbase.com \\u203a organization \\u203a pytorch\",\n",
       "      \"favicon\": \"https://serpapi.com/searches/65690967f636ffdc29ae212a/images/829e0d57c100b49ab22415e65699ec78be255bb56e3e41d255250d3514dcdb81.png\",\n",
       "      \"snippet\": \"PyTorch is a deep learning framework optimized for achieving state of the art results in research, regardless of resource constraints.\",\n",
       "      \"snippet_highlighted_words\": [\n",
       "        \"PyTorch\"\n",
       "      ],\n",
       "      \"about_page_link\": \"https://www.google.com/search?q=About+https://www.crunchbase.com/organization/pytorch&tbm=ilp\",\n",
       "      \"about_page_serpapi_link\": \"https://serpapi.com/search.json?engine=google_about_this_result&google_domain=google.com&q=About+https%3A%2F%2Fwww.crunchbase.com%2Forganization%2Fpytorch\",\n",
       "      \"cached_page_link\": \"https://webcache.googleusercontent.com/search?q=cache:W5mZnKp6T9YJ:https://www.crunchbase.com/organization/pytorch&hl=en&gl=us\",\n",
       "      \"source\": \"Crunchbase\"\n",
       "    },\n",
       "    {\n",
       "      \"position\": 3,\n",
       "      \"title\": \"PyTorch\",\n",
       "      \"link\": \"https://en.wikipedia.org/wiki/PyTorch\",\n",
       "      \"displayed_link\": \"https://en.wikipedia.org \\u203a wiki \\u203a PyTorch\",\n",
       "      \"favicon\": \"https://serpapi.com/searches/65690967f636ffdc29ae212a/images/829e0d57c100b49ab22415e65699ec78b3359ba25ed4629879dc131d8ac024ec.png\",\n",
       "      \"snippet\": \"PyTorch is a machine learning framework based on the Torch library, used for applications such as computer vision and natural language processing, ...\",\n",
       "      \"snippet_highlighted_words\": [\n",
       "        \"PyTorch\"\n",
       "      ],\n",
       "      \"about_page_link\": \"https://www.google.com/search?q=About+https://en.wikipedia.org/wiki/PyTorch&tbm=ilp\",\n",
       "      \"about_page_serpapi_link\": \"https://serpapi.com/search.json?engine=google_about_this_result&google_domain=google.com&q=About+https%3A%2F%2Fen.wikipedia.org%2Fwiki%2FPyTorch\",\n",
       "      \"cached_page_link\": \"https://webcache.googleusercontent.com/search?q=cache:i3_DOyfo4C4J:https://en.wikipedia.org/wiki/PyTorch&hl=en&gl=us\",\n",
       "      \"source\": \"Wikipedia\"\n",
       "    },\n",
       "    {\n",
       "      \"position\": 4,\n",
       "      \"title\": \"Meta transfers PyTorch to the Linux Foundation - Protocol\",\n",
       "      \"link\": \"https://www.protocol.com/newsletters/protocol-enterprise/meta-pytorch-linux-foundation-twitter\",\n",
       "      \"displayed_link\": \"https://www.protocol.com \\u203a protocol-enterprise \\u203a meta...\",\n",
       "      \"favicon\": \"https://serpapi.com/searches/65690967f636ffdc29ae212a/images/829e0d57c100b49ab22415e65699ec7804abe994c5be90efb87a8d68f0f9ace0.png\",\n",
       "      \"date\": \"Sep 12, 2022\",\n",
       "      \"snippet\": \"Meta is handing the reins for PyTorch, its popular open-source AI framework, to the nonprofit open-source software consortium Linux Foundation.\",\n",
       "      \"snippet_highlighted_words\": [\n",
       "        \"Meta\"\n",
       "      ],\n",
       "      \"about_page_link\": \"https://www.google.com/search?q=About+https://www.protocol.com/newsletters/protocol-enterprise/meta-pytorch-linux-foundation-twitter&tbm=ilp\",\n",
       "      \"about_page_serpapi_link\": \"https://serpapi.com/search.json?engine=google_about_this_result&google_domain=google.com&q=About+https%3A%2F%2Fwww.protocol.com%2Fnewsletters%2Fprotocol-enterprise%2Fmeta-pytorch-linux-foundation-twitter\",\n",
       "      \"cached_page_link\": \"https://webcache.googleusercontent.com/search?q=cache:6TiUPbLcHNcJ:https://www.protocol.com/newsletters/protocol-enterprise/meta-pytorch-linux-foundation-twitter&hl=en&gl=us\",\n",
       "      \"source\": \"protocol.com\"\n",
       "    },\n",
       "    {\n",
       "      \"position\": 5,\n",
       "      \"title\": \"What is PyTorch? | Data Science\",\n",
       "      \"link\": \"https://www.nvidia.com/en-us/glossary/data-science/pytorch/\",\n",
       "      \"displayed_link\": \"https://www.nvidia.com \\u203a en-us \\u203a glossary \\u203a pytorch\",\n",
       "      \"favicon\": \"https://serpapi.com/searches/65690967f636ffdc29ae212a/images/829e0d57c100b49ab22415e65699ec785911d61efdf9da13a6991c122d643828.png\",\n",
       "      \"snippet\": \"PyTorch is the work of developers at Facebook AI Research and several other labs. The framework combines the efficient and flexible GPU-accelerated backend ...\",\n",
       "      \"snippet_highlighted_words\": [\n",
       "        \"developers at Facebook AI Research and several other labs\"\n",
       "      ],\n",
       "      \"about_page_link\": \"https://www.google.com/search?q=About+https://www.nvidia.com/en-us/glossary/data-science/pytorch/&tbm=ilp\",\n",
       "      \"about_page_serpapi_link\": \"https://serpapi.com/search.json?engine=google_about_this_result&google_domain=google.com&q=About+https%3A%2F%2Fwww.nvidia.com%2Fen-us%2Fglossary%2Fdata-science%2Fpytorch%2F\",\n",
       "      \"cached_page_link\": \"https://webcache.googleusercontent.com/search?q=cache:bSNphtY8L48J:https://www.nvidia.com/en-us/glossary/data-science/pytorch/&hl=en&gl=us\",\n",
       "      \"source\": \"Nvidia\"\n",
       "    },\n",
       "    {\n",
       "      \"position\": 6,\n",
       "      \"title\": \"What Is PyTorch? (Definition, How It Works, Benefits)\",\n",
       "      \"link\": \"https://builtin.com/machine-learning/pytorch\",\n",
       "      \"displayed_link\": \"https://builtin.com \\u203a machine-learning \\u203a pytorch\",\n",
       "      \"favicon\": \"https://serpapi.com/searches/65690967f636ffdc29ae212a/images/829e0d57c100b49ab22415e65699ec78a17fb6006f0f1ee7326d9c964f9b7090.png\",\n",
       "      \"date\": \"Dec 19, 2022\",\n",
       "      \"snippet\": \"Major Corporate Investment: PyTorch has investment from two major corporations, Meta and Microsoft, which both maintain and develop the ...\",\n",
       "      \"snippet_highlighted_words\": [\n",
       "        \"two major corporations, Meta and Microsoft\"\n",
       "      ],\n",
       "      \"about_page_link\": \"https://www.google.com/search?q=About+https://builtin.com/machine-learning/pytorch&tbm=ilp\",\n",
       "      \"about_page_serpapi_link\": \"https://serpapi.com/search.json?engine=google_about_this_result&google_domain=google.com&q=About+https%3A%2F%2Fbuiltin.com%2Fmachine-learning%2Fpytorch\",\n",
       "      \"cached_page_link\": \"https://webcache.googleusercontent.com/search?q=cache:Yq0sKUAWuPgJ:https://builtin.com/machine-learning/pytorch&hl=en&gl=us\",\n",
       "      \"source\": \"Built In\"\n",
       "    },\n",
       "    {\n",
       "      \"position\": 7,\n",
       "      \"title\": \"Meta's deep learning framework PyTorch to be led by the ...\",\n",
       "      \"link\": \"https://siliconangle.com/2022/09/12/metas-deep-learning-framework-pytorch-led-newly-formed-pytorch-foundation/\",\n",
       "      \"displayed_link\": \"https://siliconangle.com \\u203a 2022/09/12 \\u203a metas-deep-le...\",\n",
       "      \"favicon\": \"https://serpapi.com/searches/65690967f636ffdc29ae212a/images/829e0d57c100b49ab22415e65699ec78caec7ba562322bfacbad75d1a38d4ef6.png\",\n",
       "      \"date\": \"Sep 12, 2022\",\n",
       "      \"snippet\": \"\\u201cPyTorch has become one of the leading AI platforms with more than 150,000 projects on GitHub built on the framework,\\u201d Meta founder and Chief ...\",\n",
       "      \"snippet_highlighted_words\": [\n",
       "        \"Meta founder\"\n",
       "      ],\n",
       "      \"about_page_link\": \"https://www.google.com/search?q=About+https://siliconangle.com/2022/09/12/metas-deep-learning-framework-pytorch-led-newly-formed-pytorch-foundation/&tbm=ilp\",\n",
       "      \"about_page_serpapi_link\": \"https://serpapi.com/search.json?engine=google_about_this_result&google_domain=google.com&q=About+https%3A%2F%2Fsiliconangle.com%2F2022%2F09%2F12%2Fmetas-deep-learning-framework-pytorch-led-newly-formed-pytorch-foundation%2F\",\n",
       "      \"cached_page_link\": \"https://webcache.googleusercontent.com/search?q=cache:qhZDnV-KypsJ:https://siliconangle.com/2022/09/12/metas-deep-learning-framework-pytorch-led-newly-formed-pytorch-foundation/&hl=en&gl=us\",\n",
       "      \"source\": \"SiliconANGLE\"\n",
       "    },\n",
       "    {\n",
       "      \"position\": 8,\n",
       "      \"title\": \"PyTorch Foundation\",\n",
       "      \"link\": \"https://pytorch.org/foundation\",\n",
       "      \"displayed_link\": \"https://pytorch.org \\u203a foundation\",\n",
       "      \"favicon\": \"https://serpapi.com/searches/65690967f636ffdc29ae212a/images/829e0d57c100b49ab22415e65699ec7859348bc67eca99c923ab7275043cb801.png\",\n",
       "      \"snippet\": \"The PyTorch Foundation is supported by leading contributors to the PyTorch open source project. The Foundation leverages resources provided by members and ...\",\n",
       "      \"snippet_highlighted_words\": [\n",
       "        \"The PyTorch Foundation\"\n",
       "      ],\n",
       "      \"about_page_link\": \"https://www.google.com/search?q=About+https://pytorch.org/foundation&tbm=ilp\",\n",
       "      \"about_page_serpapi_link\": \"https://serpapi.com/search.json?engine=google_about_this_result&google_domain=google.com&q=About+https%3A%2F%2Fpytorch.org%2Ffoundation\",\n",
       "      \"cached_page_link\": \"https://webcache.googleusercontent.com/search?q=cache:jjSlh4ijUs8J:https://pytorch.org/foundation&hl=en&gl=us\",\n",
       "      \"missing\": [\n",
       "        \"investor\"\n",
       "      ],\n",
       "      \"must_include\": {\n",
       "        \"word\": \"investor\",\n",
       "        \"link\": \"https://www.google.com/search?sca_esv=f4dbf1826554685d&q=Who+is+the+%22investor%22+of+PyTorch?&sa=X&ved=2ahUKEwiw2fbd3-yCAxWsSjABHRMJAmUQ5t4CegQIQRAB\"\n",
       "      },\n",
       "      \"source\": \"PyTorch\"\n",
       "    },\n",
       "    {\n",
       "      \"position\": 9,\n",
       "      \"title\": \"PyTorch - Company Profile\",\n",
       "      \"link\": \"https://tracxn.com/d/companies/pytorch.org\",\n",
       "      \"displayed_link\": \"https://tracxn.com \\u203a companies \\u203a pytorch\",\n",
       "      \"favicon\": \"https://serpapi.com/searches/65690967f636ffdc29ae212a/images/829e0d57c100b49ab22415e65699ec7829bb82f4f7967ea95450be11390d6377.png\",\n",
       "      \"snippet\": \"PyTorch does not have any Angel Investors. Competitors of PyTorch. Competitive landscape of PyTorch. PyTorch has 87 active competitors and it ranks 5th among ...\",\n",
       "      \"snippet_highlighted_words\": [\n",
       "        \"PyTorch does not have any Angel Investors\"\n",
       "      ],\n",
       "      \"about_page_link\": \"https://www.google.com/search?q=About+https://tracxn.com/d/companies/pytorch.org&tbm=ilp\",\n",
       "      \"about_page_serpapi_link\": \"https://serpapi.com/search.json?engine=google_about_this_result&google_domain=google.com&q=About+https%3A%2F%2Ftracxn.com%2Fd%2Fcompanies%2Fpytorch.org\",\n",
       "      \"source\": \"Tracxn\"\n",
       "    }\n",
       "  ],\n",
       "  \"related_searches\": [\n",
       "    {\n",
       "      \"block_position\": 1,\n",
       "      \"query\": \"Who is the investor of pytorch in python\",\n",
       "      \"link\": \"https://www.google.com/search?sca_esv=f4dbf1826554685d&q=Who+is+the+investor+of+pytorch+in+python&sa=X&ved=2ahUKEwiw2fbd3-yCAxWsSjABHRMJAmUQ1QJ6BAg0EAE\",\n",
       "      \"serpapi_link\": \"https://serpapi.com/search.json?device=desktop&engine=google&gl=us&google_domain=google.com&hl=en&q=Who+is+the+investor+of+pytorch+in+python\"\n",
       "    },\n",
       "    {\n",
       "      \"block_position\": 1,\n",
       "      \"query\": \"pytorch foundation\",\n",
       "      \"link\": \"https://www.google.com/search?sca_esv=f4dbf1826554685d&q=PyTorch+Foundation&sa=X&ved=2ahUKEwiw2fbd3-yCAxWsSjABHRMJAmUQ1QJ6BAgzEAE\",\n",
       "      \"serpapi_link\": \"https://serpapi.com/search.json?device=desktop&engine=google&gl=us&google_domain=google.com&hl=en&q=PyTorch+Foundation\"\n",
       "    },\n",
       "    {\n",
       "      \"block_position\": 1,\n",
       "      \"query\": \"pytorch vs tensorflow\",\n",
       "      \"link\": \"https://www.google.com/search?sca_esv=f4dbf1826554685d&q=PyTorch+vs+TensorFlow&sa=X&ved=2ahUKEwiw2fbd3-yCAxWsSjABHRMJAmUQ1QJ6BAgyEAE\",\n",
       "      \"serpapi_link\": \"https://serpapi.com/search.json?device=desktop&engine=google&gl=us&google_domain=google.com&hl=en&q=PyTorch+vs+TensorFlow\"\n",
       "    },\n",
       "    {\n",
       "      \"block_position\": 1,\n",
       "      \"query\": \"pytorch github\",\n",
       "      \"link\": \"https://www.google.com/search?sca_esv=f4dbf1826554685d&q=Pytorch+github&sa=X&ved=2ahUKEwiw2fbd3-yCAxWsSjABHRMJAmUQ1QJ6BAgxEAE\",\n",
       "      \"serpapi_link\": \"https://serpapi.com/search.json?device=desktop&engine=google&gl=us&google_domain=google.com&hl=en&q=Pytorch+github\"\n",
       "    },\n",
       "    {\n",
       "      \"block_position\": 1,\n",
       "      \"query\": \"what is pytorch used for\",\n",
       "      \"link\": \"https://www.google.com/search?sca_esv=f4dbf1826554685d&q=What+is+PyTorch+used+for&sa=X&ved=2ahUKEwiw2fbd3-yCAxWsSjABHRMJAmUQ1QJ6BAgwEAE\",\n",
       "      \"serpapi_link\": \"https://serpapi.com/search.json?device=desktop&engine=google&gl=us&google_domain=google.com&hl=en&q=What+is+PyTorch+used+for\"\n",
       "    },\n",
       "    {\n",
       "      \"block_position\": 1,\n",
       "      \"query\": \"is pytorch a library or framework\",\n",
       "      \"link\": \"https://www.google.com/search?sca_esv=f4dbf1826554685d&q=Is+PyTorch+a+library+or+framework&sa=X&ved=2ahUKEwiw2fbd3-yCAxWsSjABHRMJAmUQ1QJ6BAgvEAE\",\n",
       "      \"serpapi_link\": \"https://serpapi.com/search.json?device=desktop&engine=google&gl=us&google_domain=google.com&hl=en&q=Is+PyTorch+a+library+or+framework\"\n",
       "    },\n",
       "    {\n",
       "      \"block_position\": 1,\n",
       "      \"query\": \"pytorch license\",\n",
       "      \"link\": \"https://www.google.com/search?sca_esv=f4dbf1826554685d&q=PyTorch+license&sa=X&ved=2ahUKEwiw2fbd3-yCAxWsSjABHRMJAmUQ1QJ6BAguEAE\",\n",
       "      \"serpapi_link\": \"https://serpapi.com/search.json?device=desktop&engine=google&gl=us&google_domain=google.com&hl=en&q=PyTorch+license\"\n",
       "    },\n",
       "    {\n",
       "      \"block_position\": 1,\n",
       "      \"query\": \"who owns tensorflow\",\n",
       "      \"link\": \"https://www.google.com/search?sca_esv=f4dbf1826554685d&q=Who+owns+TensorFlow&sa=X&ved=2ahUKEwiw2fbd3-yCAxWsSjABHRMJAmUQ1QJ6BAgtEAE\",\n",
       "      \"serpapi_link\": \"https://serpapi.com/search.json?device=desktop&engine=google&gl=us&google_domain=google.com&hl=en&q=Who+owns+TensorFlow\"\n",
       "    }\n",
       "  ],\n",
       "  \"pagination\": {\n",
       "    \"current\": 1,\n",
       "    \"next\": \"https://www.google.com/search?q=Who+is+the+investor+of+PyTorch%3F&oq=Who+is+the+investor+of+PyTorch%3F&hl=en&gl=us&start=10&sourceid=chrome&ie=UTF-8\",\n",
       "    \"other_pages\": {\n",
       "      \"2\": \"https://www.google.com/search?q=Who+is+the+investor+of+PyTorch%3F&oq=Who+is+the+investor+of+PyTorch%3F&hl=en&gl=us&start=10&sourceid=chrome&ie=UTF-8\",\n",
       "      \"3\": \"https://www.google.com/search?q=Who+is+the+investor+of+PyTorch%3F&oq=Who+is+the+investor+of+PyTorch%3F&hl=en&gl=us&start=20&sourceid=chrome&ie=UTF-8\",\n",
       "      \"4\": \"https://www.google.com/search?q=Who+is+the+investor+of+PyTorch%3F&oq=Who+is+the+investor+of+PyTorch%3F&hl=en&gl=us&start=30&sourceid=chrome&ie=UTF-8\",\n",
       "      \"5\": \"https://www.google.com/search?q=Who+is+the+investor+of+PyTorch%3F&oq=Who+is+the+investor+of+PyTorch%3F&hl=en&gl=us&start=40&sourceid=chrome&ie=UTF-8\"\n",
       "    }\n",
       "  },\n",
       "  \"serpapi_pagination\": {\n",
       "    \"current\": 1,\n",
       "    \"next_link\": \"https://serpapi.com/search.json?device=desktop&engine=google&gl=us&google_domain=google.com&hl=en&q=Who+is+the+investor+of+PyTorch%3F&start=10\",\n",
       "    \"next\": \"https://serpapi.com/search.json?device=desktop&engine=google&gl=us&google_domain=google.com&hl=en&q=Who+is+the+investor+of+PyTorch%3F&start=10\",\n",
       "    \"other_pages\": {\n",
       "      \"2\": \"https://serpapi.com/search.json?device=desktop&engine=google&gl=us&google_domain=google.com&hl=en&q=Who+is+the+investor+of+PyTorch%3F&start=10\",\n",
       "      \"3\": \"https://serpapi.com/search.json?device=desktop&engine=google&gl=us&google_domain=google.com&hl=en&q=Who+is+the+investor+of+PyTorch%3F&start=20\",\n",
       "      \"4\": \"https://serpapi.com/search.json?device=desktop&engine=google&gl=us&google_domain=google.com&hl=en&q=Who+is+the+investor+of+PyTorch%3F&start=30\",\n",
       "      \"5\": \"https://serpapi.com/search.json?device=desktop&engine=google&gl=us&google_domain=google.com&hl=en&q=Who+is+the+investor+of+PyTorch%3F&start=40\"\n",
       "    }\n",
       "  }\n",
       "}"
      ],
      "text/plain": [
       "<class symai.backend.engines.search.engine_serpapi.SearchResult at 0x7fcad8827160>(value=While Meta remains the largest contributor to PyTorch, companies such as AMD, Amazon Web Services (AWS), Google Cloud, HuggingFace, Lightning AI, Microsoft Azure, Nvidia, and many others have made significant investments, including both technical contributions and community building efforts.)"
      ]
     },
     "execution_count": 2,
     "metadata": {},
     "output_type": "execute_result"
    }
   ],
   "source": [
    "Interface('serpapi')('Who is the investor of PyTorch?')"
   ]
  },
  {
   "cell_type": "code",
   "execution_count": 7,
   "metadata": {},
   "outputs": [],
   "source": [
    "from symai.extended import DocumentRetriever"
   ]
  },
  {
   "cell_type": "code",
   "execution_count": null,
   "metadata": {},
   "outputs": [],
   "source": [
    "docret = DocumentRetriever(file='<path_to_your_pdf_file>')"
   ]
  },
  {
   "cell_type": "code",
   "execution_count": null,
   "metadata": {},
   "outputs": [],
   "source": [
    "res = docret.query('What is the Theory of Mind paper about?')"
   ]
  },
  {
   "cell_type": "code",
   "execution_count": null,
   "metadata": {},
   "outputs": [],
   "source": [
    "res"
   ]
  },
  {
   "cell_type": "code",
   "execution_count": null,
   "metadata": {},
   "outputs": [],
   "source": [
    "image = res.extract('main idea')"
   ]
  },
  {
   "cell_type": "code",
   "execution_count": null,
   "metadata": {},
   "outputs": [],
   "source": []
  }
 ],
 "metadata": {
  "kernelspec": {
   "display_name": "symai310",
   "language": "python",
   "name": "python3"
  },
  "language_info": {
   "codemirror_mode": {
    "name": "ipython",
    "version": 3
   },
   "file_extension": ".py",
   "mimetype": "text/x-python",
   "name": "python",
   "nbconvert_exporter": "python",
   "pygments_lexer": "ipython3",
   "version": "3.10.13"
  },
  "orig_nbformat": 4
 },
 "nbformat": 4,
 "nbformat_minor": 2
}
